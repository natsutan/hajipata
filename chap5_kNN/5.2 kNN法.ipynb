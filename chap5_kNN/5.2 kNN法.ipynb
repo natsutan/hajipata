{
 "cells": [
  {
   "cell_type": "markdown",
   "metadata": {},
   "source": [
    "# 5.2 kNN法\n",
    "\n",
    "最近傍のひな型をk個とってきて、それらが最も多く所属するクラスに識別する方法をk最近傍法(kNN法）と呼ぶ。\n",
    "\n",
    "# 5.3 kNN法とベイズ誤り率\n",
    "\n",
    "# 5.4 kNN法での計算量とその低減方法\n",
    "\n",
    "## 5.4.1 誤り削除型kNN\n",
    "誤ったデータを削除していく。\n",
    "\n",
    "## 5.4.2 圧縮型kNN\n",
    "識別に寄与しないデータをあらかじめ消しておく。\n",
    "\n",
    "## 5.4.3 分岐限定法\n",
    "branch and bound method\n",
    "ツリー構造を作って、順番にスキャンしていく。\n",
    "\n",
    "https://www.slideshare.net/moa108/5-kknn\n",
    "\n",
    "<img src=branch.png>\n",
    "\n",
    "## 5.4.4 近似最近傍探索\n",
    "特徴軸に直行する平面で2分木をつくる。計算を領域までの距離が小さい順に行い、それを保持していく。"
   ]
  },
  {
   "cell_type": "code",
   "execution_count": null,
   "metadata": {
    "collapsed": true
   },
   "outputs": [],
   "source": []
  }
 ],
 "metadata": {
  "kernelspec": {
   "display_name": "Python 3",
   "language": "python",
   "name": "python3"
  },
  "language_info": {
   "codemirror_mode": {
    "name": "ipython",
    "version": 3
   },
   "file_extension": ".py",
   "mimetype": "text/x-python",
   "name": "python",
   "nbconvert_exporter": "python",
   "pygments_lexer": "ipython3",
   "version": "3.6.1"
  }
 },
 "nbformat": 4,
 "nbformat_minor": 2
}
