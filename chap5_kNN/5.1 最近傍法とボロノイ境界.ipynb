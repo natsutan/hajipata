{
 "cells": [
  {
   "cell_type": "markdown",
   "metadata": {},
   "source": [
    "# 5 k最近傍法\n",
    "\n",
    "学習データ（雛形, template)と距離計算を行い、もっとも近い雛形が所属するクラスに識別する方法を_最近傍法_（NN法）と呼ぶ。kNN法は雛形が多ければきわめて精度が高くなる。ただし、計算時間はかかる。\n",
    "\n",
    "最も近いk個の雛形を選び、所属する雛形の数が最も多いクラスタに識別する方法をkNN法と呼ぶ。"
   ]
  },
  {
   "cell_type": "markdown",
   "metadata": {},
   "source": [
    "## 5.1 最近傍法とボロノイ境界\n",
    "K個のクラスタを $\\Omega = \\{C_1, \\cdots, C_K\\}$, i番目のクラスの学習データ数を$N(i)$、その集合を$S_i=\\{x_1^{(i)}, \\cdots, x_{N(i)}^{i} \\}$ とする。最近傍法では、入力データ$x$と、学習データ$x_j^{(i)}$の類似度を、ユークリッド距離$d(x,x_j^{(i)})= \\| x - x_j^{(i)} \\| $で計算する。\n",
    "$$\n",
    "\\newcommand{\\argmin}{\\mathop{\\rm arg~min}\\limits}  \n",
    "\\newcommand{\\argmax}{\\mathop{\\rm arg~max}\\limits}\n",
    "\\arg \\min_i d(x,x_j^{(i)}) \\lt t \n",
    "$$\n",
    "の時、$\\arg \\min_i d(x,x_j^{(i)})$が識別クラス。\n",
    "\n",
    "$$\n",
    "\\newcommand{\\argmin}{\\mathop{\\rm arg~min}\\limits}  \n",
    "\\newcommand{\\argmax}{\\mathop{\\rm arg~max}\\limits}\n",
    "\\arg \\min_i d(x,x_j^{(i)}) \\geq t $$\n",
    "の時、リジェクト。\n",
    "\n",
    "### 5.1.1 ボロノイ図\n",
    "\n"
   ]
  }
 ],
 "metadata": {
  "kernelspec": {
   "display_name": "Python 3",
   "language": "python",
   "name": "python3"
  },
  "language_info": {
   "codemirror_mode": {
    "name": "ipython",
    "version": 3
   },
   "file_extension": ".py",
   "mimetype": "text/x-python",
   "name": "python",
   "nbconvert_exporter": "python",
   "pygments_lexer": "ipython3",
   "version": "3.6.1"
  }
 },
 "nbformat": 4,
 "nbformat_minor": 2
}
