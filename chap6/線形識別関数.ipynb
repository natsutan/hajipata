{
 "cells": [
  {
   "cell_type": "markdown",
   "metadata": {},
   "source": [
    "# 6章線形識別関数\n",
    "-----\n",
    "# 6.1 線形識別関数の定義\n",
    "\n",
    " 2クラス問題$(C_1, C_2)$の線形識別関数は、d次元入力ベクトルを $x=(x_1, \\cdots , x_d)^T $、係数ベクトルを$ w = (w_1, \\cdots, w_d)^T $、バイアスを$w_0$とすると\n",
    "$$\n",
    "f(x)=w^Tx+w_0\n",
    "$$\n",
    "境界を$f(x)=0$として、識別規則は$C_1 f(x) \\geq 0 $、$C_2 f(x) \\lt 0$ となる。\n",
    "\n",
    "識別境界では、 $w^Tx -w_0$が成り立つ。両辺を係数ベクトルのノルム $ ||w|| $で正規化すると\n",
    "$$\n",
    "\\frac {w^T} {||w||} x = - \\frac {w_0} {||w||}\n",
    "$$"
   ]
  },
  {
   "cell_type": "markdown",
   "metadata": {},
   "source": [
    "# 6.2 最小二乗誤差によるパラメータの推定\n",
    "## 6.2.1 正規方程式\n",
    "$$\n",
    "f(x) = w_0 + w_1 x_! + \\cdots + w_d x_d = w^Tx\n",
    "$$\n",
    "教師入力 $t_i$は、$ +1 (x_i \\in C_1）$、$ -1 (x_i \\in C_2) $のように与えられるものとする。\n",
    "\n",
    "$$\n",
    "X = (x_!, \\cdots, x_N)^T\n",
    "$$\n",
    "$$\n",
    "t=(t_1, \\cdots, t_N)^T\n",
    "$$\n",
    "で入力データと教師データを定義する。\n",
    "\n",
    "識別関数の出力値と教師入力の差を事情誤差で評価すると、その評価関数$E({\\bf w})$は\n",
    "$$\n",
    "E(\\bf {w})\n",
    "$$\n"
   ]
  },
  {
   "cell_type": "code",
   "execution_count": null,
   "metadata": {
    "collapsed": true
   },
   "outputs": [],
   "source": []
  }
 ],
 "metadata": {
  "kernelspec": {
   "display_name": "Python 3",
   "language": "python",
   "name": "python3"
  },
  "language_info": {
   "codemirror_mode": {
    "name": "ipython",
    "version": 3
   },
   "file_extension": ".py",
   "mimetype": "text/x-python",
   "name": "python",
   "nbconvert_exporter": "python",
   "pygments_lexer": "ipython3",
   "version": "3.6.1"
  }
 },
 "nbformat": 4,
 "nbformat_minor": 2
}
