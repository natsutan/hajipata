{
 "cells": [
  {
   "cell_type": "markdown",
   "metadata": {},
   "source": [
    "# 6.4 ロジスティック回帰"
   ]
  },
  {
   "cell_type": "markdown",
   "metadata": {},
   "source": [
    "## 6.4.1 ロジスティック関数\n",
    "$$\n",
    "P(C_1|x) = \\frac 1 {1 + exp(-a) } = \\sigma(a)\n",
    "$$\n",
    "$\\sigma(a)$をロジスティック関数と呼ぶ。 $y=\\sigma(x)$は無限区間を区間(0,1)に写像する。\n"
   ]
  },
  {
   "cell_type": "markdown",
   "metadata": {},
   "source": [
    "## 6.4.2 ロジスティック回帰モデル\n",
    "喫煙量と肺がん発生の有無\n",
    "$$\n",
    "P(1|x) = f(x) = \\frac 1 {1 + exp(-(\\omega_0 +\\omega_1 x} ))\n",
    "$$\n"
   ]
  },
  {
   "cell_type": "code",
   "execution_count": null,
   "metadata": {
    "collapsed": true
   },
   "outputs": [],
   "source": []
  }
 ],
 "metadata": {
  "kernelspec": {
   "display_name": "Python 3",
   "language": "python",
   "name": "python3"
  },
  "language_info": {
   "codemirror_mode": {
    "name": "ipython",
    "version": 3
   },
   "file_extension": ".py",
   "mimetype": "text/x-python",
   "name": "python",
   "nbconvert_exporter": "python",
   "pygments_lexer": "ipython3",
   "version": "3.6.1"
  }
 },
 "nbformat": 4,
 "nbformat_minor": 2
}
