{
 "cells": [
  {
   "cell_type": "markdown",
   "metadata": {},
   "source": [
    "### 3.1.2　ベイズの識別規則の例\n",
    "\n",
    "| |サンプル数|喫煙(S=1)|飲酒(T=1)|\n",
    "|----------|---------|-------------|\n",
    "|健康(G=1)|800|320|640|\n",
    "|G=0|200|160|40|\n",
    "\n",
    "SとTは条件付き独立 $P(S,T|G) = P(S|G)P(T|G) $ が成り立っているとする。\n"
   ]
  },
  {
   "cell_type": "code",
   "execution_count": 1,
   "metadata": {
    "code_folding": [
     0
    ],
    "collapsed": false
   },
   "outputs": [],
   "source": [
    "# 健康か健康でないかをGをインデックスとして表現\n",
    "# サンプルの中の健康な人 sample[1], 健康でない人 sample[0]\n",
    "sample = [200, 800]\n",
    "smoking = [160, 320]\n",
    "drinking = [40, 60]\n",
    "\n",
    "# 各クラス（健康　or 健康でない）の事前確率\n",
    "P_G1 = sample[1] / sum(sample)\n",
    "P_G0 = sample[0] / sum(sample)"
   ]
  },
  {
   "cell_type": "markdown",
   "metadata": {
    "variables": {
     " P_G1 ": "0.8",
     "P_G0": "0.2"
    }
   },
   "source": [
    "各クラスの事前確率は$P(G=1) $、$P(G=0) $は"
   ]
  },
  {
   "cell_type": "code",
   "execution_count": 2,
   "metadata": {
    "collapsed": false
   },
   "outputs": [
    {
     "name": "stdout",
     "output_type": "stream",
     "text": [
      "P(G=1) = 0.8\n",
      "P(G=0) = 0.2\n"
     ]
    }
   ],
   "source": [
    "print(\"P(G=1) = %g\" % P_G1)\n",
    "print(\"P(G=0) = %g\" % P_G0)"
   ]
  },
  {
   "cell_type": "markdown",
   "metadata": {},
   "source": [
    "#### 喫煙に関する条件付き確率 P(S|G)\n",
    "\n",
    "| | S=1 | S=0|\n",
    "|----------|---------|--|\n",
    "|G=1 |$P(S=1|G=1) = \\frac {320} {800} = 0.4 $ | $P(S=0|G=1) = \\frac {480} {800} = 0.6 $ |\n",
    "|G=0 |$P(S=1|G=0) = \\frac {160} {200} = 0.8 $ | $P(S=0|G=0) = \\frac {40} {200} = 0.2 $ |"
   ]
  },
  {
   "cell_type": "markdown",
   "metadata": {},
   "source": [
    "#### 飲酒に対する条件付き確率 P(T|G)\n",
    "| | T=1 | T=0|\n",
    "|----------|---------|--|\n",
    "|G=1 |$P(T=1|G=1) = \\frac {640} {800} = 0.8 $ | $P(T=0|G=1) = \\frac {160} {800} = 0.2 $ |\n",
    "|G=0 |$P(T=1|G=0) = \\frac {40} {200} = 0.2 $ | $P(T=0|G=0) = \\frac {160} {200} = 0.8 $ |\n"
   ]
  },
  {
   "cell_type": "markdown",
   "metadata": {
    "collapsed": true
   },
   "source": [
    "#### 条件付き確率 P(S,T|G)\n",
    "P(S=1,T=0|G=1)=P(S=1,G=1)P(T=0,G=1) = 0.4 * 0.2 = 0.08\n",
    "\n",
    "#### 同時確率 P(S,T,G)\n",
    "P(S=1,T=0,G=1)=P(S=1,T=0|G=1) * P(G=1) = 0.08 * 0.8 = 0.0064\n"
   ]
  },
  {
   "cell_type": "markdown",
   "metadata": {},
   "source": [
    "#### 周辺確率P(S,T)\n",
    "P=(S,T)=P(S,T,G=1)+P(S,T,G=0)\n",
    "\n",
    "クラス条件付確率、同時確率、周辺確率の計算\n",
    "\n",
    "| |S=1,T=1|S=0,T=1|S=1,T=0|S=0,T=0|\n",
    "|-|-|-|-|-|\n",
    "|P(S,T｜G=1)|$P(S=1|G=1) * P(T=1|G=1)  = 0.32$ |$0.6 * 0.8 = 0.48$ | $0.4 * 0.2 = 0.08$ | $0.6 * 0.2 = 0.12$ |\n",
    "|P(S,T｜G=0)|$0.8*0.2=0.16$ |$0.2*0.2=0.04$  |$0.8*0.8=0.64$ | $0.2*0.8 = 0.16$ |\n",
    "|P(S,T,G=1)|$P(S,T｜G=1)*P(G=1) = 0.32*0.8=0.256$ |$0.48*0.8=0.384$ |$0.08*0.8=0.064$ |$0.12*0.8=0.096$ |\n",
    "|P(S,T,G=0)|$0.16*0.2=0.032$ |$0.04*0.2=0.08$|$0.64*0.2=0.128$ |$0.16*0.2=0.032$ |\n",
    "|P(S,T)|$P(S,T,G=1)+P(S,T,G=0)=0.288$ |$0.384+0.08=0.392$ | $0.064+0.128=0.192$| $0.096+0.032=0.128$ |"
   ]
  },
  {
   "cell_type": "markdown",
   "metadata": {
    "collapsed": true
   },
   "source": [
    "#### 事後確率の計算と、健康かどうかの判断\n",
    "\n",
    "事後確率の式\n",
    "\n",
    "$P(G|S,T) = \\frac {P(S,T|G)P(G)} {P(S.T)} $\n",
    "\n",
    "を使って\n",
    "\n",
    "| |S=1,T=1|S=0,T=1|S=1,T=0|S=0,T=0|\n",
    "|-|-|-|-|-|\n",
    "|P(G=1｜S.T)| <font color='red'>$0.256 / 0.288 = 0.889$</font>| <font color='red'>$0.384/0.392=0.980$ </font> | $0.64/0.192=0.333$ | <font color='red'>$0.096/0.128=0.750$</font>|\n",
    "|P(G=0｜S.T)| $0.032 / 0.111 = 0.889$ |$0.08/0.392=0.020$|<font color='red'>$0.128/0.192=0.667$</font>| $0.032/0.128=0.250$|\n",
    "\n",
    "健康か否かは表の事後確率の大きいほう（赤字）を取ればよい。\n"
   ]
  },
  {
   "cell_type": "code",
   "execution_count": null,
   "metadata": {
    "collapsed": true
   },
   "outputs": [],
   "source": []
  }
 ],
 "metadata": {
  "kernelspec": {
   "display_name": "Python [Root]",
   "language": "python",
   "name": "Python [Root]"
  },
  "language_info": {
   "codemirror_mode": {
    "name": "ipython",
    "version": 3
   },
   "file_extension": ".py",
   "mimetype": "text/x-python",
   "name": "python",
   "nbconvert_exporter": "python",
   "pygments_lexer": "ipython3",
   "version": "3.5.2"
  }
 },
 "nbformat": 4,
 "nbformat_minor": 1
}
