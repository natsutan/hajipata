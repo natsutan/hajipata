{
 "cells": [
  {
   "cell_type": "markdown",
   "metadata": {},
   "source": [
    "### 3.1.2　ベイズの識別規則の例\n",
    "\n",
    "| |サンプル数|喫煙(S=1)|飲酒(T=1)|\n",
    "|----------|---------|-------------|\n",
    "|健康(G=1)|800|320|640|\n",
    "|G=0|200|160|40|\n",
    "\n",
    "SとTは条件付き独立 $P(S,T|G) = P(S|G)P(T|G) $ が成り立っているとする。\n"
   ]
  },
  {
   "cell_type": "code",
   "execution_count": 4,
   "metadata": {
    "collapsed": false
   },
   "outputs": [],
   "source": [
    "# 健康か健康でないかをGをインデックスとして表現\n",
    "# サンプルの中の健康な人 sample[1], 健康でない人 sample[0]\n",
    "sample = [200, 800]\n",
    "smoking = [160, 320]\n",
    "drinking = [40, 60]\n",
    "\n",
    "# 各クラス（健康　or 健康でない）の事前確率\n",
    "P_G1 = sample[1] / sum(sample)\n",
    "P_G0 = sample[0] / sum(sample)"
   ]
  },
  {
   "cell_type": "markdown",
   "metadata": {},
   "source": [
    "各クラスの事前確率は$P(G=1) = $"
   ]
  }
 ],
 "metadata": {
  "kernelspec": {
   "display_name": "Python 3",
   "language": "python",
   "name": "python3"
  },
  "language_info": {
   "codemirror_mode": {
    "name": "ipython",
    "version": 3
   },
   "file_extension": ".py",
   "mimetype": "text/x-python",
   "name": "python",
   "nbconvert_exporter": "python",
   "pygments_lexer": "ipython3",
   "version": "3.5.2"
  }
 },
 "nbformat": 4,
 "nbformat_minor": 1
}
