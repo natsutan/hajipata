{
 "cells": [
  {
   "cell_type": "markdown",
   "metadata": {},
   "source": [
    "### 3.1.2　ベイズの識別規則の例\n",
    "\n",
    "| |サンプル数|喫煙(S=1)|飲酒(T=1)|\n",
    "|----------|---------|-------------|\n",
    "|健康(G=1)|800|320|640|\n",
    "|G=0|200|160|40|\n",
    "\n",
    "SとTは条件付き独立 $P(S,T|G) = P(S|G)P(T|G) $ が成り立っているとする。\n"
   ]
  },
  {
   "cell_type": "code",
   "execution_count": 1,
   "metadata": {
    "code_folding": [
     0
    ],
    "collapsed": false
   },
   "outputs": [],
   "source": [
    "# 健康か健康でないかをGをインデックスとして表現\n",
    "# サンプルの中の健康な人 sample[1], 健康でない人 sample[0]\n",
    "sample = [200, 800]\n",
    "smoking = [160, 320]\n",
    "drinking = [40, 60]\n",
    "\n",
    "# 各クラス（健康　or 健康でない）の事前確率\n",
    "P_G1 = sample[1] / sum(sample)\n",
    "P_G0 = sample[0] / sum(sample)"
   ]
  },
  {
   "cell_type": "markdown",
   "metadata": {
    "variables": {
     " P_G1 ": "0.8",
     "P_G0": "0.2"
    }
   },
   "source": [
    "各クラスの事前確率は$P(G=1) = $ {{ P_G1 }}、$P(G=0) = $ {{P_G0}}"
   ]
  },
  {
   "cell_type": "markdown",
   "metadata": {},
   "source": [
    "#### 喫煙に関する条件付き確率Ｐ（Ｓ｜Ｇ）\n",
    "\n",
    "| | S=1 | S=0|\n",
    "|----------|---------|--|\n",
    "|G=1 |$P(S=1|G=1) = \\frac {320} {800} = 0.4 $ | $P(S=0|G=1) = \\frac {480} {800} = 0.6 $ |\n",
    "|G=0 |$P(S=1|G=0) = \\frac {160} {200} = 0.8 $ | $P(S=0|G=0) = \\frac {40} {200} = 0.2 $ |"
   ]
  },
  {
   "cell_type": "markdown",
   "metadata": {},
   "source": [
    "#### 飲酒に対する条件付き確率(P|T)\n",
    "| | T=1 | T=0|\n",
    "|----------|---------|--|\n",
    "|G=1 |$P(T=1|G=1) = \\frac {640} {800} = 0.8 $ | $P(T=0|G=1) = \\frac {160} {800} = 0.2 $ |\n",
    "|G=0 |$P(T=1|G=0) = \\frac {40} {200} = 0.2 $ | $P(T=0|G=0) = \\frac {160} {200} = 0.8 $ |"
   ]
  },
  {
   "cell_type": "code",
   "execution_count": null,
   "metadata": {
    "collapsed": true
   },
   "outputs": [],
   "source": []
  }
 ],
 "metadata": {
  "kernelspec": {
   "display_name": "Python 3",
   "language": "python",
   "name": "python3"
  },
  "language_info": {
   "codemirror_mode": {
    "name": "ipython",
    "version": 3
   },
   "file_extension": ".py",
   "mimetype": "text/x-python",
   "name": "python",
   "nbconvert_exporter": "python",
   "pygments_lexer": "ipython3",
   "version": "3.5.2"
  }
 },
 "nbformat": 4,
 "nbformat_minor": 1
}
