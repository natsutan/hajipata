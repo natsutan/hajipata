{
 "cells": [
  {
   "cell_type": "markdown",
   "metadata": {},
   "source": [
    "# 3.1.3 尤度比\n",
    "\n",
    "尤度比$p(x|C_i)/p(x|C_j)$を使って識別クラスを決定できる。\n",
    "\n",
    "# 3.1.4 ベイズの識別規則は誤り率最小\n",
    "2クラス${C_1, C_2}$の識別問題を考える。ベイズの識別規則での誤り率$\\epsilon(x)$は、\n",
    "\n",
    "$\\epsilon(x) = min [P(C_1 | x), P(C_2 | x)]$\n",
    "\n",
    "となる。これを *条件付ベイズ誤り率* という。\n",
    "\n",
    "ベイズ誤り率は条件付ベイズの期待値として表される。\n",
    "\n",
    "$\\epsilon^{\\ast} = E\\{\\epsilon (x)\\} = \\int_{R_2} p(x|C_1)P(C_1)dx + \\int_{R_1} p(x|C_2)P(C_2)dx$\n",
    "\n",
    "\n",
    "\n",
    "http://www.tectips.xyz/matplotlib_pyplot_plot1/"
   ]
  },
  {
   "cell_type": "code",
   "execution_count": null,
   "metadata": {
    "collapsed": false,
    "scrolled": true
   },
   "outputs": [],
   "source": [
    "%matplotlib inline\n",
    "import numpy as np\n",
    "from scipy.stats import norm\n",
    "import matplotlib.pyplot as plt\n",
    "\n",
    "x = np.linspace(0, 10, 1000)\n",
    "y1 = norm.pdf(x-3)\n",
    "y2 = norm.pdf(x-7)\n",
    "\n",
    "#plt.xkcd()\n",
    "plt.plot(x, y1, color ='b', label='p(x|C1)P(C1)')\n",
    "plt.plot(x, y2, color ='g', label='p(x|C2)P(C2)')\n",
    "plt.vlines(5, 0, 0.4)  \n",
    "plt.vlines(5.5, 0, 0.4, linestyles=\"dashed\")  \n",
    "plt.legend()\n",
    "plt.show()"
   ]
  },
  {
   "cell_type": "markdown",
   "metadata": {
    "collapsed": true
   },
   "source": [
    "縦線の箇所がベイズの識別境界 $\\Theta$。これが左右にずれると、破線の状態になり誤りの面積は必ず増加する。"
   ]
  },
  {
   "cell_type": "markdown",
   "metadata": {},
   "source": [
    "# 3.1.5 最小損失基準に基づくベイズの識別規則\n"
   ]
  }
 ],
 "metadata": {
  "kernelspec": {
   "display_name": "Python [Root]",
   "language": "python",
   "name": "Python [Root]"
  },
  "language_info": {
   "codemirror_mode": {
    "name": "ipython",
    "version": 3
   },
   "file_extension": ".py",
   "mimetype": "text/x-python",
   "name": "python",
   "nbconvert_exporter": "python",
   "pygments_lexer": "ipython3",
   "version": "3.5.2"
  }
 },
 "nbformat": 4,
 "nbformat_minor": 0
}
