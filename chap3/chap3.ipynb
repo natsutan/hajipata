{
 "cells": [
  {
   "cell_type": "markdown",
   "metadata": {},
   "source": [
    "# ベイズの識別規則\n",
    "\n",
    "## 3.1 ベイズの識別規則\n",
    "### 3.1.1. 最大事後確率基準\n",
    "観測データを$x$、識別クラスを$C_{i}$とする。ベイズの識別規則は、次式で定義される事後確率が最も大きなクラスに観測データを分類する。\n",
    "\n",
    "$P(C_{i}|x) = \\frac{p(x|C_{i})}{p(x)} \\times P(C_{i})$ = 修正項×事前確率\n",
    "___\n",
    "ここが分かりやすかった。\n",
    "http://kenyu.red/archives/3434.html\n",
    "\n",
    "$ P(B|A) \\times P(A) = P(A|B) \\times P(B) $\n",
    "\n",
    "$P(B|A)$ Aが起きた後にBが起きる確率（事後確率）\n",
    "___\n",
    "\n",
    "$P(C_{i}|x)$は、観測データが$x$が与えられた下で、それがクラス$C_{i}$に属する条件付き確率で*事後確率*と呼ばれる。 $ P(C_{i})$ は*事前確率*。\n",
    "\n",
    "$ p(x|C_{i}) $は*クラス条件付き確率*で*尤度*と呼ばれる。クラスがわかった時のxの確率分布を表す。\n",
    "\n",
    "$p(x)$は、観測データxの生起確率である。クラスとの同時確率$p(C_{i},x)$から、クラス全体の和を取ることで得られる。\n",
    "\n",
    "$p(x)= \\sum_{i=1}^{K}p(C_{i},x)$\n",
    "\n",
    "このような操作を*周辺化*といい、$p(x)$を周辺確率と言う。"
   ]
  },
  {
   "cell_type": "markdown",
   "metadata": {
    "collapsed": true
   },
   "source": []
  },
  {
   "cell_type": "code",
   "execution_count": null,
   "metadata": {
    "collapsed": true
   },
   "outputs": [],
   "source": []
  }
 ],
 "metadata": {
  "kernelspec": {
   "display_name": "Python 3",
   "language": "python",
   "name": "python3"
  },
  "language_info": {
   "codemirror_mode": {
    "name": "ipython",
    "version": 3
   },
   "file_extension": ".py",
   "mimetype": "text/x-python",
   "name": "python",
   "nbconvert_exporter": "python",
   "pygments_lexer": "ipython3",
   "version": "3.5.2"
  }
 },
 "nbformat": 4,
 "nbformat_minor": 1
}
