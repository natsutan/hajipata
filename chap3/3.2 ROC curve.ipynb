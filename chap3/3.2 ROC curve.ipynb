{
 "cells": [
  {
   "cell_type": "markdown",
   "metadata": {},
   "source": [
    "# 3.2 受動者動作特性曲線\n",
    "性能を評価するための指針\n",
    "\n",
    "受動者動作特性曲線(ROC曲線:receiver operator characteristics curve)\n",
    "\n",
    "## 3.1.1 ROC曲線の求め方\n",
    "confusion matrix\n",
    "\n",
    "| |識別クラス$p$|識別クラス$n$|行和|\n",
    "|----------|---------|-------------|\n",
    "|真のクラス$p^{\\ast}$|True Positive (TP)| False Nagative (FN)| P = TP + FN|\n",
    "|真のクラス$n^{\\ast}$|False Postive (FP)| True Negative (TN)| N = NP + TN|\n",
    "\n",
    "- 偽陽性率(false positive rate) = FP / N\n",
    "- 真陽性率(true positive rate) = TP / P\n",
    "- 適合率(precision) = TP / (TP + FP)\n",
    "- 再現率(recall) = TP / P\n",
    "- 正確度(accuracy) = (TP + TN) / (P + N)\n",
    "- F-値(F-measure) = $ \\frac { 2 } {( \\frac{1} {presciton}  + \\frac {1 } { recall}) }$\n",
    "\n",
    "ROC曲線とは、偽陽性率と真陽性率をグラフにしたものである。\n",
    "\n",
    "- 真陽性率は、正解を正解と当てた確率。（正答率）\n",
    "- 偽陽性率は、間違いを正解と判断した確率（誤検出率）\n",
    "\n",
    "## 3.2.2 ROC曲線による性能評価\n",
    "ROC曲線は、性能が良いほど左上方向にシフトする。ROC曲線の下側の面積をROC曲線下面積(AUC)と呼ぶ。ROC曲線と等損失直線が接するところが一番性能が良い。\n",
    "\n",
    "## 3.2.3 ROC曲線の構成\n",
    "クラスの分布が分からなくても作成できる。この場合、階段状になりROCグラフと呼ばれる。\n",
    "\n",
    "\n"
   ]
  }
 ],
 "metadata": {
  "kernelspec": {
   "display_name": "Python [Root]",
   "language": "python",
   "name": "Python [Root]"
  },
  "language_info": {
   "codemirror_mode": {
    "name": "ipython",
    "version": 3.0
   },
   "file_extension": ".py",
   "mimetype": "text/x-python",
   "name": "python",
   "nbconvert_exporter": "python",
   "pygments_lexer": "ipython3",
   "version": "3.5.2"
  }
 },
 "nbformat": 4,
 "nbformat_minor": 0
}