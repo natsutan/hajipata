{
 "cells": [
  {
   "cell_type": "markdown",
   "metadata": {},
   "source": [
    "## 4.1.4 白色化\n",
    "全ての特徴量の標準偏差を1に正規化し、かつ中心化を行う作業を白色化(whitening)という。白色化後の座標系をuとすると\n",
    "$$\n",
    "u = \\Lambda^{\\frac 1 2} S^T (x - \\mu)\n",
    "$$\n",
    "$\\Lambda^{\\frac 1 2}$は、$\\Lambda$の各対角要素の平方根をとった行列の逆行列。uの期待値は\n",
    "$$\n",
    "E\\{u\\} =   \\Lambda^{\\frac 1 2} S^T (E\\{x\\} - \\mu) =  \\Lambda^{\\frac 1 2} S^T(\\mu - \\mu) = 0\n",
    "$$\n",
    "uの共分散行列は\n",
    "$$\n",
    "Var\\{u\\} = E\\{uu^T\\} = \\Lambda^{\\frac 1 2} S^{-1} \\Sigma S \\Lambda^{- \\frac  T 2} = I\n",
    "$$"
   ]
  }
 ],
 "metadata": {
  "kernelspec": {
   "display_name": "Python 3",
   "language": "python",
   "name": "python3"
  },
  "language_info": {
   "codemirror_mode": {
    "name": "ipython",
    "version": 3
   },
   "file_extension": ".py",
   "mimetype": "text/x-python",
   "name": "python",
   "nbconvert_exporter": "python",
   "pygments_lexer": "ipython3",
   "version": "3.6.0"
  }
 },
 "nbformat": 4,
 "nbformat_minor": 2
}
