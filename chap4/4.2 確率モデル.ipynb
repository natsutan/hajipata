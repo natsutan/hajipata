{
 "cells": [
  {
   "cell_type": "markdown",
   "metadata": {},
   "source": [
    "# 4.2 確率モデル\n",
    "\n",
    "- パラメトリックモデル 学習データから推定した統計量を用いて構成した確率モデルで分布を表現する。\n",
    "- ノンパラメトリックモデル 特定の確率モデルを仮定しない\n",
    "\n",
    "ノンパラメトリックモデルには、ヒストグラム法、k最近傍法(kNN)、パルツェン密度推定法などがある。\n",
    "\n",
    "パラメトリックモデルには、確率変数が離散的な物と、連続的な物がある。、\n",
    "\n",
    "## 4.2.1 正規分布\n",
    "正規分布に限り、無相関であることと統計的に独立であることが等価である。従って、共分散行列を対角化でき、統計的に独立な要素に分解できる。一次元正規分関数は\n",
    "$$\n",
    "N(x|\\mu, \\sigma^2) = \\frac{ 1}{ \\sqrt {2\\pi} \\sigma } exp(-\\frac{(x-\\mu)^2}{ 2\\sigma^2})\n",
    "$$\n",
    "で定義でき、正規分布の形を決めるパラメータは平均値$\\mu$と分散$\\sigma^2$である。\n",
    "\n",
    "確率変数がd個の要素を持つベクトルで与えられる場合、d次元の多次元正規分布問題となり、\n",
    "$$\n",
    "N(x|\\mu, \\Sigma) = \\frac {1} {(2\\pi)^{\\frac d 2} |\\Sigma |^{\\frac 1 2}} exp(- \\frac 2 1 (x - \\mu)^T \\Sigma^{-1}(x-\\mu))\n",
    "$$\n",
    "ここで、$\\mu$は平均ベクトル、$\\Sigma$は共分散行列をあらわす。\n",
    "\n",
    "任意の点xと平均ベクトル$\\mu$との距離\n",
    "$$\n",
    "d(x,\\mu) = \\sqrt {(x-\\mu)^T \\Sigma^{-1}(x-\\mu)}\n",
    "$$\n",
    "をマハラノビス距離という。"
   ]
  },
  {
   "cell_type": "code",
   "execution_count": null,
   "metadata": {
    "collapsed": true
   },
   "outputs": [],
   "source": []
  }
 ],
 "metadata": {
  "kernelspec": {
   "display_name": "Python 3",
   "language": "python",
   "name": "python3"
  },
  "language_info": {
   "codemirror_mode": {
    "name": "ipython",
    "version": 3
   },
   "file_extension": ".py",
   "mimetype": "text/x-python",
   "name": "python",
   "nbconvert_exporter": "python",
   "pygments_lexer": "ipython3",
   "version": "3.6.0"
  }
 },
 "nbformat": 4,
 "nbformat_minor": 2
}
