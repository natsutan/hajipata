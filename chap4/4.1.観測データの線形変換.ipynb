{
 "cells": [
  {
   "cell_type": "markdown",
   "metadata": {},
   "source": [
    "# 4章 確率モデルと識別関数\n",
    "\n",
    "測定単位の違いを吸収したり、特徴間の相関を無くすためには、学習データの分布を表す*統計量*が必要になってくる。\n",
    "\n",
    "- 平均ベクトル\n",
    "- 共分散行列\n",
    "\n",
    "これらがわかると線形変換によって、単位の違いや相関を無くすことができる。データの分布は、確率モデルで表現できる。\n",
    "\n",
    "## 4.1. 観測データの線形変換\n",
    "### 4.1.1 平均ベクトルと共分散行列\n",
    "平均ベクトルは、\n",
    "\n",
    "$\\mu = \\overline{x} = \\frac{1}{N} \\sum_{i=1}^{N}x_i$\n",
    "\n",
    "で計算できる。\n",
    "\n",
    "共分散行列$\\Sigma$は、\n",
    "\n",
    "$\\Sigma = E\\{ (x - \\mu) (x - \\mu)^T \\} = (\\sigma _{ij}) $\n",
    "\n",
    "i=jが分散、i≠jが共分散で表される。$\\sigma_{ii} = \\sigma_{i}^2 $と表し、$\\sigma_i$を標準偏差という。\n",
    "\n",
    "xが連続量の場合\n",
    "\n",
    "$ \\sigma _{ij} = E \\{ (x_i - \\mu_i) (x_j - \\mu_j) \\} = \\iint  (x_i - \\mu_i) (x_j - \\mu_j) p(x_i,x_j) dx_i dx_j $\n",
    "\n",
    "i番目とj番目の特徴間の相関係数$\\rho_{ij}$は、それぞれの標準偏差$\\sigma_{i}$, $\\sigma_{j}$と共分散の$\\sigma_{ij}$を用いて以下のように定義される。\n",
    "\n",
    "$\\rho_{ij}=\\frac{\\sigma_{ij}}{\\sigma_{i}\\sigma_{j}}$\n",
    "\n",
    "正の相関、負の相関という表現はこの値を使う。\n",
    "\n",
    "### 4.1.2 観測データの標準化\n",
    "線形変換を用いて、平均を0、分散を1にすることを標準化という。\n"
   ]
  }
 ],
 "metadata": {
  "anaconda-cloud": {},
  "kernelspec": {
   "display_name": "Python 3",
   "language": "python",
   "name": "python3"
  },
  "language_info": {
   "codemirror_mode": {
    "name": "ipython",
    "version": 3.0
   },
   "file_extension": ".py",
   "mimetype": "text/x-python",
   "name": "python",
   "nbconvert_exporter": "python",
   "pygments_lexer": "ipython3",
   "version": "3.6.0"
  }
 },
 "nbformat": 4,
 "nbformat_minor": 0
}