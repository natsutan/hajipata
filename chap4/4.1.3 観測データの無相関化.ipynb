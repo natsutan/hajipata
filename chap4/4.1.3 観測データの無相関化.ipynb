{
 "cells": [
  {
   "cell_type": "markdown",
   "metadata": {},
   "source": [
    "## 4.1.3 観測データの無相関化\n",
    "観測データから作られた共分散行列Σの固有値問題\n",
    "$$\n",
    "\\Sigma s = \\lambda s \n",
    "$$\n",
    "を解いて得られたd個の固有値をを $ \\lambda _1 \\geq \\lambda _2 \\geq \\cdots \\geq \\lambda _d $ 、対応する固有ベクトルを $ s_1, s_2, \\cdots  s_d$ とする。これらを並べて\n",
    "$$\n",
    "S = (s_1, s_2, \\cdots ,s_d)\n",
    "$$\n",
    "を定義する。\n",
    "共分散行列は実対称行列なので、各固有値は実数で固有ベクトルは直行する。特に共分散行列の固有ベクトルは長さが１の正規直行基底となる。$S$は回転行列と呼ばれる。\n"
   ]
  },
  {
   "cell_type": "markdown",
   "metadata": {},
   "source": [
    "### 例題4.2\n",
    "正規直行行列Sでは、$ S^T = S ^{-1} $が成り立つことを示せ。\n",
    "\n",
    "$$\n",
    "S^T S = \\begin{pmatrix} s^T_1 \\\\ \\dots  \\\\ s^T_d \\end{pmatrix} (s_1, s_2, \\cdots ,s_d) = I = S^{-1} S\n",
    "$$"
   ]
  },
  {
   "cell_type": "markdown",
   "metadata": {},
   "source": [
    "観測データxを $S^T$で線形変換する。変換されたデータを $ y = S^T x $として、yの平均値と共分散行列を求める。\n",
    "$$\n",
    "E\\{y\\} = E\\{S^Tx\\} = S^T\\mu\n",
    "$$\n",
    "$$\n",
    "Var\\{y\\} = E\\{ ( y - E\\{y\\})(y-E\\{y\\})^T = S^{-1}E\\{ (x-\\mu)(x-\\mu)^T\\}S = S^{-1}\\Sigma S \n",
    "$$\n",
    "\n",
    "- 平均ベクトルは、元のデータの平均ベクトルを線形変換したもの\n",
    "- 共分散行列は、元のデータの共分散行列に、線形変換ベクトルとその逆行列を両側からかけてものになる\n",
    "\n",
    "この式は確率分布によらず成り立つ。\n",
    "\n",
    "最後の式は対角化の式である。\n",
    "$$\n",
    "S^{-1}\\Sigma\\S = \\Lambda =  \\begin{pmatrix} \n",
    "                            \\lambda_1 & 0 & \\cdots & 0 \\\\\n",
    "                            0 & \\lambda_2 & \\cdots & 0 \\\\\n",
    "                            \\vdots & \\ddots & \\vdots & \\vdots \\\\\n",
    "                            0 & 0 & \\cdots & \\lambda_d\n",
    "\\end{pmatrix}\n",
    "$$\n",
    "\n",
    "共分散行列の固有ベクトルを並べた正規直行行列は、元のデータの共分散行列を対角化するので、各固有値は固有ベクトル方向の分散となる。変換された特徴間の相互相関が0になるので、これを観測ベクトルの無相関化という。\n",
    "\n",
    "コードは4.1.2 IRISデータの標準化を参照"
   ]
  },
  {
   "cell_type": "markdown",
   "metadata": {},
   "source": []
  }
 ],
 "metadata": {
  "kernelspec": {
   "display_name": "Python 3",
   "language": "python",
   "name": "python3"
  },
  "language_info": {
   "codemirror_mode": {
    "name": "ipython",
    "version": 3
   },
   "file_extension": ".py",
   "mimetype": "text/x-python",
   "name": "python",
   "nbconvert_exporter": "python",
   "pygments_lexer": "ipython3",
   "version": "3.6.0"
  }
 },
 "nbformat": 4,
 "nbformat_minor": 2
}
