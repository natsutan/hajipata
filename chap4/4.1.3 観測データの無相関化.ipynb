{
 "cells": [
  {
   "cell_type": "markdown",
   "metadata": {},
   "source": [
    "## 4.1.3 観測データの無相関化\n",
    "観測データから作られた共分散行列Σの固有値問題\n",
    "$$\n",
    "\\Sigma s = \\lambda s \n",
    "$$\n",
    "を解いて得られたd個の固有値をを $ \\lambda _1 \\geq \\lambda _2 \\geq \\cdots \\geq \\lambda _d $ 、対応する固有ベクトルを $ s_1, s_2, \\cdots  s_d$ とする。これらを並べて\n",
    "$$\n",
    "S = (s_1, s_2, \\cdots ,s_d)\n",
    "$$\n",
    "を定義する。\n",
    "共分散行列は実対称行列なので、各固有値は実数で固有ベクトルは直行する。特に共分散行列の固有ベクトルは長さが１の正規直行基底となる。$S$は回転行列と呼ばれる。\n"
   ]
  },
  {
   "cell_type": "code",
   "execution_count": null,
   "metadata": {},
   "outputs": [],
   "source": []
  }
 ],
 "metadata": {
  "kernelspec": {
   "display_name": "Python 3",
   "language": "python",
   "name": "python3"
  },
  "language_info": {
   "codemirror_mode": {
    "name": "ipython",
    "version": 3
   },
   "file_extension": ".py",
   "mimetype": "text/x-python",
   "name": "python",
   "nbconvert_exporter": "python",
   "pygments_lexer": "ipython3",
   "version": "3.5.2"
  }
 },
 "nbformat": 4,
 "nbformat_minor": 2
}
