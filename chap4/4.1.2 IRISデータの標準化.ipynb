{
 "cells": [
  {
   "cell_type": "markdown",
   "metadata": {},
   "source": [
    "# IRISデータの標準化\n"
   ]
  },
  {
   "cell_type": "code",
   "execution_count": 67,
   "metadata": {
    "collapsed": true
   },
   "outputs": [],
   "source": [
    "from sklearn import datasets\n",
    "import matplotlib.pyplot as plt\n",
    "import numpy as np\n",
    "import seaborn\n",
    "iris = datasets.load_iris()"
   ]
  },
  {
   "cell_type": "code",
   "execution_count": 63,
   "metadata": {
    "collapsed": false
   },
   "outputs": [],
   "source": [
    "target = iris.target\n",
    "X = iris.data[:, 2:4]\n",
    "petal_len = X[:, 0]\n",
    "petal_width = X[:, 1]"
   ]
  },
  {
   "cell_type": "code",
   "execution_count": 64,
   "metadata": {
    "collapsed": false
   },
   "outputs": [
    {
     "data": {
      "text/plain": [
       "(0.10000000000000001, 2.5)"
      ]
     },
     "execution_count": 64,
     "metadata": {},
     "output_type": "execute_result"
    }
   ],
   "source": [
    "plt.xlabel('Sepal length')\n",
    "plt.ylabel('Sepal width')\n",
    "plt.xlim(petal_len.min(), petal_len.max())\n",
    "plt.ylim(petal_width.min(), petal_width.max())\n"
   ]
  },
  {
   "cell_type": "code",
   "execution_count": 71,
   "metadata": {
    "collapsed": false
   },
   "outputs": [
    {
     "name": "stdout",
     "output_type": "stream",
     "text": [
      "平均値 μ=(3.758667, 1.198667)\n",
      "共分散行列 Σ=\n",
      "[[ 3.11317942  1.29638747]\n",
      " [ 1.29638747  0.58241432]]\n"
     ]
    },
    {
     "data": {
      "image/png": "[encoded data removed]",
      "text/plain": [
       "<matplotlib.figure.Figure at 0x9bdc4d0>"
      ]
     },
     "metadata": {},
     "output_type": "display_data"
    }
   ],
   "source": [
    "# 標準の状態\n",
    "mean = (petal_len.mean(), petal_width.mean())\n",
    "cov = np.cov([petal_len, petal_width])\n",
    "\n",
    "print(\"平均値 μ=(%f, %f)\" % (mean[0], mean[1]))\n",
    "print(\"共分散行列 Σ=\\n%s\" % str(cov))\n",
    "\n",
    "# 標準の状態のplot\n",
    "plt.scatter(petal_len[0:49], petal_width[0:49], c='red', marker='.')\n",
    "plt.scatter(petal_len[50:99], petal_width[50:99], c='blue', marker='o')\n",
    "plt.scatter(petal_len[100:149], petal_width[100:149], c='green', marker='^')\n",
    "plt.show()"
   ]
  },
  {
   "cell_type": "code",
   "execution_count": 69,
   "metadata": {
    "collapsed": false
   },
   "outputs": [
    {
     "data": {
      "text/plain": [
       "array([[ 3.11317942,  1.29638747],\n",
       "       [ 1.29638747,  0.58241432]])"
      ]
     },
     "execution_count": 69,
     "metadata": {},
     "output_type": "execute_result"
    }
   ],
   "source": []
  },
  {
   "cell_type": "code",
   "execution_count": null,
   "metadata": {
    "collapsed": true
   },
   "outputs": [],
   "source": []
  }
 ],
 "metadata": {
  "kernelspec": {
   "display_name": "Python 3",
   "language": "python",
   "name": "python3"
  },
  "language_info": {
   "codemirror_mode": {
    "name": "ipython",
    "version": 3
   },
   "file_extension": ".py",
   "mimetype": "text/x-python",
   "name": "python",
   "nbconvert_exporter": "python",
   "pygments_lexer": "ipython3",
   "version": "3.6.0"
  }
 },
 "nbformat": 4,
 "nbformat_minor": 2
}
