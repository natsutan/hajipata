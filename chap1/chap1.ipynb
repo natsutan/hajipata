{
 "cells": [
  {
   "cell_type": "markdown",
   "metadata": {},
   "source": [
    "# 第一章 はじめに\n",
    "- 識別 「なにか」を判断すること\n",
    "- 特徴抽出 判断するための「有効な特徴」を抽出すること\n",
    "- 識別規則 「有効な特徴」と「何か」を結びつける規則\n",
    "\n",
    "## 1.1 パターン認識とは\n",
    "\n",
    "<img src=\"fig1.1.png\">\n"
   ]
  }
 ],
 "metadata": {
  "kernelspec": {
   "display_name": "Python 3",
   "language": "python",
   "name": "python3"
  },
  "language_info": {
   "codemirror_mode": {
    "name": "ipython",
    "version": 3
   },
   "file_extension": ".py",
   "mimetype": "text/x-python",
   "name": "python",
   "nbconvert_exporter": "python",
   "pygments_lexer": "ipython3",
   "version": "3.5.2"
  }
 },
 "nbformat": 4,
 "nbformat_minor": 1
}
