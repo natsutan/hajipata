{
 "cells": [
  {
   "cell_type": "markdown",
   "metadata": {},
   "source": [
    "# 第2章 識別規則と学習法の概要\n",
    "## 2.1 識別規則と学習法の分類\n",
    "\n",
    "識別規則は、入力データ $x$ から、クラス $ C_{i} \\in \\{ C_{1} ... C_{k} \\} $ への写像である。\n",
    "\n",
    "### 2.1.1 識別規則の構成法\n",
    "(a)事後確率による方法：パターン空間に確立分布を仮定し、事後確率が最大のクラスに分類する。 _ベイズの最大事後確率法_ 等。\n",
    "\n",
    "(b)距離による方法：ベクトルの距離が一番近い代表ベクトルのクラスに分類する。_最近傍法_。\n",
    "\n",
    "(c)関数値による方法： _パーセプトロン型学習回路_ 、 _SVM_ 。\n",
    "\n",
    "(d)決定木による方法：識別規則の真偽におうじて、次の識別規則を順次適用する。 _決定木_\n",
    "\n",
    "### 2.1.2 教室付き学習\n",
    "2クラス問題の線形識別関数の場合\n",
    "\n",
    "$ y = f(x;w) = w_{1}x_{1} + ... + w_{d}x_{d} = \\bf{w}^{T} \\bf{x}$\n",
    "\n",
    "パラメータwとベクトルxの線形関数（内積）で表現される。\n",
    "学習するためには、入力データとそのクラスを指定したデータを対にした学習データが必要になる。クラスを指定したデータを教師データという。\n",
    "入力データと教師データの全ての対の集合を学習データセットといい、 $ D_{L} $ で表す。\n",
    "\n",
    "性能評価を行うために、学習に使用しなかったテストデータセット $ D_{T} $ を使う。\n",
    "\n",
    "### 2.1.3 教師付き学習と線形回帰\n",
    "関数近似（回帰）を線形関数で近似する場合、線形回帰と呼ばれる。\n",
    "\n",
    "### 2.1.4 教師なし学習\n",
    "クラスタリング等。一部のみ教師をつける方法を*形質導入学習*(transductive learning)と呼ぶ、\n",
    "\n",
    "## 2.2 汎化能力\n",
    "未知のデータに対する識別能力を_汎化能力_といい、その誤差を_汎化誤差_という。\n",
    "\n",
    "## 2.2.1 学習データとテストデータの作り方\n",
    "100円玉識別の場合。\n",
    "\n",
    "$ D_{L} $ の硬貨を使って設計し、$ D_{T} $ の硬貨を使ってテストした時の誤り率を $ \\epsilon (p_{L}, p_{T}) $ で表す。流通している全ての硬貨を*母集団*といい、そのd次元特徴の分布を$p$で表し*真の分布*とよぶ。$p$と$p_{L}, p_{T}$とのずれを*偏り（バイアス）*と呼ぶ。\n",
    "学習したデータでテストをした誤り率を*再代入誤り率*(resubstitution error)と呼び、$ \\epsilon (p_{L}, p_{L}) $で表す。\n",
    "\n",
    "データの分割方法。\n",
    " \n",
    "#### ①ホールドアウト法。\n",
    "データを学習用とテスト用に完全に分ける。\n",
    "真の誤り率、再代入誤り率、ホールドアウト誤り率の関係。\n",
    "$ E_{D_{L}} \\{ \\epsilon (p_{L}, p_{L}) \\} \\leq  \\epsilon (p, p) \\leq  E_{D_{T}} \\{ \\epsilon (p_{L}, p_{T}) \\} $\n",
    "\n",
    "#### ②交差確認法(cross validation法)\n",
    "学習データをm個のグループに分け、どれか一つのデータで学習を行い、残りの一個でテストを行う。これをすべてのiで行って平均を取る。\n",
    "識別の予測値は\n",
    "$ \\epsilon = \\frac {1} {m} \\sum_{i=1}^{m} \\epsilon _{-i} $\n",
    "となる。\n",
    "\n",
    "#### ③ひとつ抜き法(leave-one-out)\n",
    "ジャックナイフ法とも呼ぶ。②を選んだ一つ以外の全てを学習に使う。\n",
    "\n",
    "#### ④ブートストラップ法\n",
    "\n",
    "https://www39.atwiki.jp/stat_semi/pages/26.html\n",
    "\n",
    "\n",
    "\n"
   ]
  },
  {
   "cell_type": "markdown",
   "metadata": {},
   "source": [
    "## 2.2.2 汎化能力の評価法とモデル選択\n",
    "モデル選択：パラメータの数を変え、テストデータに対する誤り率がもっとも小さくなるパラメータを選択する方法\n"
   ]
  },
  {
   "cell_type": "code",
   "execution_count": 4,
   "metadata": {
    "collapsed": false
   },
   "outputs": [
    {
     "data": {
      "text/plain": [
       "[<matplotlib.lines.Line2D at 0x7fd459ee6f28>]"
      ]
     },
     "execution_count": 4,
     "metadata": {},
     "output_type": "execute_result"
    },
    {
     "data": {
      "image/png": "[encoded data removed]",
      "text/plain": [
       "<matplotlib.figure.Figure at 0x7fd45bf8deb8>"
      ]
     },
     "metadata": {},
     "output_type": "display_data"
    }
   ],
   "source": [
    "%matplotlib inline\n",
    "import numpy as np\n",
    "import matplotlib.pyplot as plt\n",
    "x = np.linspace(0, 10, 100)\n",
    "y  = np.sin(x)\n",
    "plt.plot(x, y)\n"
   ]
  },
  {
   "cell_type": "code",
   "execution_count": null,
   "metadata": {
    "collapsed": true
   },
   "outputs": [],
   "source": []
  }
 ],
 "metadata": {
  "kernelspec": {
   "display_name": "Python 3",
   "language": "python",
   "name": "python3"
  },
  "language_info": {
   "codemirror_mode": {
    "name": "ipython",
    "version": 3
   },
   "file_extension": ".py",
   "mimetype": "text/x-python",
   "name": "python",
   "nbconvert_exporter": "python",
   "pygments_lexer": "ipython3",
   "version": "3.5.2"
  }
 },
 "nbformat": 4,
 "nbformat_minor": 0
}
